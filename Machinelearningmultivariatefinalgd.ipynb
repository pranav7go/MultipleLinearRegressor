{
  "nbformat": 4,
  "nbformat_minor": 0,
  "metadata": {
    "kernelspec": {
      "display_name": "Python 3",
      "language": "python",
      "name": "python3"
    },
    "language_info": {
      "codemirror_mode": {
        "name": "ipython",
        "version": 3
      },
      "file_extension": ".py",
      "mimetype": "text/x-python",
      "name": "python",
      "nbconvert_exporter": "python",
      "pygments_lexer": "ipython3",
      "version": "3.8.3"
    },
    "colab": {
      "name": " Machinelearningmultivariatefinalgd.ipynb",
      "provenance": []
    }
  },
  "cells": [
    {
      "cell_type": "markdown",
      "metadata": {
        "id": "EkzwZC7BirYu",
        "colab_type": "text"
      },
      "source": [
        "**Importing Libraries**"
      ]
    },
    {
      "cell_type": "code",
      "metadata": {
        "id": "t6BI9uyqwXU0",
        "colab_type": "code",
        "colab": {}
      },
      "source": [
        "import numpy as np\n",
        "import matplotlib.pyplot as plt\n",
        "import pandas as pd"
      ],
      "execution_count": 0,
      "outputs": []
    },
    {
      "cell_type": "markdown",
      "metadata": {
        "id": "BzVJQ5N6gS2A",
        "colab_type": "text"
      },
      "source": [
        "**Data Preprocessing** \n"
      ]
    },
    {
      "cell_type": "code",
      "metadata": {
        "id": "1rOPOizpwXU6",
        "colab_type": "code",
        "colab": {}
      },
      "source": [
        "training_data = pd.read_csv(\"Train.csv\")\n",
        "X_test=pd.read_csv('Test.csv')"
      ],
      "execution_count": 0,
      "outputs": []
    },
    {
      "cell_type": "code",
      "metadata": {
        "id": "-pwd_KtUxNYO",
        "colab_type": "code",
        "colab": {
          "base_uri": "https://localhost:8080/",
          "height": 197
        },
        "outputId": "55247150-32b1-454f-f75b-8fdaa885312b"
      },
      "source": [
        "training_data.head()"
      ],
      "execution_count": 51,
      "outputs": [
        {
          "output_type": "execute_result",
          "data": {
            "text/html": [
              "<div>\n",
              "<style scoped>\n",
              "    .dataframe tbody tr th:only-of-type {\n",
              "        vertical-align: middle;\n",
              "    }\n",
              "\n",
              "    .dataframe tbody tr th {\n",
              "        vertical-align: top;\n",
              "    }\n",
              "\n",
              "    .dataframe thead th {\n",
              "        text-align: right;\n",
              "    }\n",
              "</style>\n",
              "<table border=\"1\" class=\"dataframe\">\n",
              "  <thead>\n",
              "    <tr style=\"text-align: right;\">\n",
              "      <th></th>\n",
              "      <th>feature_1</th>\n",
              "      <th>feature_2</th>\n",
              "      <th>feature_3</th>\n",
              "      <th>feature_4</th>\n",
              "      <th>feature_5</th>\n",
              "      <th>target</th>\n",
              "    </tr>\n",
              "  </thead>\n",
              "  <tbody>\n",
              "    <tr>\n",
              "      <th>0</th>\n",
              "      <td>0.293416</td>\n",
              "      <td>-0.945599</td>\n",
              "      <td>-0.421105</td>\n",
              "      <td>0.406816</td>\n",
              "      <td>0.525662</td>\n",
              "      <td>-82.154667</td>\n",
              "    </tr>\n",
              "    <tr>\n",
              "      <th>1</th>\n",
              "      <td>-0.836084</td>\n",
              "      <td>-0.189228</td>\n",
              "      <td>-0.776403</td>\n",
              "      <td>-1.053831</td>\n",
              "      <td>0.597997</td>\n",
              "      <td>-48.897960</td>\n",
              "    </tr>\n",
              "    <tr>\n",
              "      <th>2</th>\n",
              "      <td>0.236425</td>\n",
              "      <td>0.132836</td>\n",
              "      <td>-0.147723</td>\n",
              "      <td>0.699854</td>\n",
              "      <td>-0.187364</td>\n",
              "      <td>77.270371</td>\n",
              "    </tr>\n",
              "    <tr>\n",
              "      <th>3</th>\n",
              "      <td>0.175312</td>\n",
              "      <td>0.143194</td>\n",
              "      <td>-0.581111</td>\n",
              "      <td>-0.122107</td>\n",
              "      <td>-1.292168</td>\n",
              "      <td>-2.988581</td>\n",
              "    </tr>\n",
              "    <tr>\n",
              "      <th>4</th>\n",
              "      <td>-1.693011</td>\n",
              "      <td>0.542712</td>\n",
              "      <td>-2.798729</td>\n",
              "      <td>-0.686723</td>\n",
              "      <td>1.244077</td>\n",
              "      <td>-37.596722</td>\n",
              "    </tr>\n",
              "  </tbody>\n",
              "</table>\n",
              "</div>"
            ],
            "text/plain": [
              "   feature_1  feature_2  feature_3  feature_4  feature_5     target\n",
              "0   0.293416  -0.945599  -0.421105   0.406816   0.525662 -82.154667\n",
              "1  -0.836084  -0.189228  -0.776403  -1.053831   0.597997 -48.897960\n",
              "2   0.236425   0.132836  -0.147723   0.699854  -0.187364  77.270371\n",
              "3   0.175312   0.143194  -0.581111  -0.122107  -1.292168  -2.988581\n",
              "4  -1.693011   0.542712  -2.798729  -0.686723   1.244077 -37.596722"
            ]
          },
          "metadata": {
            "tags": []
          },
          "execution_count": 51
        }
      ]
    },
    {
      "cell_type": "code",
      "metadata": {
        "id": "mjElRCtZwXVB",
        "colab_type": "code",
        "colab": {
          "base_uri": "https://localhost:8080/",
          "height": 34
        },
        "outputId": "796e9ef1-90d6-4416-9f8c-f937afeaea49"
      },
      "source": [
        "y = training_data.iloc[:, -1].values\n",
        "print(y.shape)"
      ],
      "execution_count": 52,
      "outputs": [
        {
          "output_type": "stream",
          "text": [
            "(1600,)\n"
          ],
          "name": "stdout"
        }
      ]
    },
    {
      "cell_type": "code",
      "metadata": {
        "id": "PLH6QltuwXVE",
        "colab_type": "code",
        "colab": {
          "base_uri": "https://localhost:8080/",
          "height": 34
        },
        "outputId": "acd11aad-cdcd-4650-bfc7-809211b934c3"
      },
      "source": [
        "y = y.reshape(1600, 1)\n",
        "print(y.shape)"
      ],
      "execution_count": 53,
      "outputs": [
        {
          "output_type": "stream",
          "text": [
            "(1600, 1)\n"
          ],
          "name": "stdout"
        }
      ]
    },
    {
      "cell_type": "code",
      "metadata": {
        "id": "e1lEV8aDwXVG",
        "colab_type": "code",
        "colab": {}
      },
      "source": [
        "X = training_data.iloc[:, :-1]"
      ],
      "execution_count": 0,
      "outputs": []
    },
    {
      "cell_type": "code",
      "metadata": {
        "id": "zxUY9u6DwXVI",
        "colab_type": "code",
        "colab": {}
      },
      "source": [
        "ones = np.ones([X.shape[0], 1])\n",
        "onesf=np.ones([X_test.shape[0],1])"
      ],
      "execution_count": 0,
      "outputs": []
    },
    {
      "cell_type": "code",
      "metadata": {
        "id": "yeiNG6cpwXVL",
        "colab_type": "code",
        "colab": {
          "base_uri": "https://localhost:8080/",
          "height": 141
        },
        "outputId": "ee09f086-ce67-468a-a4e4-ca781a045f93"
      },
      "source": [
        "X = np.concatenate((ones, X), axis = 1)\n",
        "X_testf=np.concatenate((onesf,X_test),axis=1)\n",
        "print(X)"
      ],
      "execution_count": 56,
      "outputs": [
        {
          "output_type": "stream",
          "text": [
            "[[ 1.          0.29341624 -0.94559871 -0.42110515  0.40681602  0.52566183]\n",
            " [ 1.         -0.83608408 -0.18922804 -0.77640262 -1.05383124  0.59799685]\n",
            " [ 1.          0.23642511  0.13283602 -0.14772298  0.69985396 -0.18736416]\n",
            " ...\n",
            " [ 1.          1.04417694 -0.89920649  1.73039905 -1.87105676  0.44251965]\n",
            " [ 1.         -1.2691729  -0.00505216  1.85766873 -1.08036482  0.73633394]\n",
            " [ 1.         -1.88400025 -0.84942743 -1.45227035  0.48861308  1.4595758 ]]\n"
          ],
          "name": "stdout"
        }
      ]
    },
    {
      "cell_type": "code",
      "metadata": {
        "id": "OR79oOkQwXVR",
        "colab_type": "code",
        "colab": {
          "base_uri": "https://localhost:8080/",
          "height": 34
        },
        "outputId": "5ecdae89-5cab-4609-a600-e72cc2faf135"
      },
      "source": [
        "theta = np.zeros([1, 6])\n",
        "print(theta)"
      ],
      "execution_count": 57,
      "outputs": [
        {
          "output_type": "stream",
          "text": [
            "[[0. 0. 0. 0. 0. 0.]]\n"
          ],
          "name": "stdout"
        }
      ]
    },
    {
      "cell_type": "markdown",
      "metadata": {
        "id": "i0g1_dI8guiu",
        "colab_type": "text"
      },
      "source": [
        "**Cost Function**"
      ]
    },
    {
      "cell_type": "code",
      "metadata": {
        "id": "5aFaK1ZawXVT",
        "colab_type": "code",
        "colab": {}
      },
      "source": [
        "def Costfunction(X,y,theta):\n",
        "    cost_for_single_ex = np.power(((X @ theta.T) - y), 2)\n",
        "    total_cost =  (np.sum(cost_for_single_ex))/(2*len(X))\n",
        "    return total_cost"
      ],
      "execution_count": 0,
      "outputs": []
    },
    {
      "cell_type": "code",
      "metadata": {
        "id": "5Rjrhw2CwXVW",
        "colab_type": "code",
        "outputId": "caa5d9b6-ec9f-4765-f091-305f6e3cfe88",
        "colab": {
          "base_uri": "https://localhost:8080/",
          "height": 34
        }
      },
      "source": [
        "Costfunction(X,y,theta)"
      ],
      "execution_count": 59,
      "outputs": [
        {
          "output_type": "execute_result",
          "data": {
            "text/plain": [
              "6128.065207016448"
            ]
          },
          "metadata": {
            "tags": []
          },
          "execution_count": 59
        }
      ]
    },
    {
      "cell_type": "markdown",
      "metadata": {
        "id": "QBsECuwngz5J",
        "colab_type": "text"
      },
      "source": [
        "**Gradient Descent**"
      ]
    },
    {
      "cell_type": "code",
      "metadata": {
        "id": "T2AzRSnOwXVZ",
        "colab_type": "code",
        "colab": {}
      },
      "source": [
        "def GradientDescent(X,y,theta,iterations,alpha):\n",
        "    cost = np.zeros(iterations)\n",
        "    for i in range(iterations):\n",
        "        theta = theta - (alpha/len(X))*np.sum(X*((X @ theta.T) - y), axis = 0)\n",
        "        cost[i] = Costfunction(X,y,theta)\n",
        "    return theta, cost"
      ],
      "execution_count": 0,
      "outputs": []
    },
    {
      "cell_type": "code",
      "metadata": {
        "id": "Uk_PWjEvwXVb",
        "colab_type": "code",
        "outputId": "0dee35e5-4717-4a9a-efb5-2f12401347d0",
        "colab": {
          "base_uri": "https://localhost:8080/",
          "height": 34
        }
      },
      "source": [
        "iterations = 200\n",
        "alpha = 1\n",
        "thetafinal, cost = GradientDescent(X,y,theta,iterations,alpha)\n",
        "print(thetafinal)"
      ],
      "execution_count": 61,
      "outputs": [
        {
          "output_type": "stream",
          "text": [
            "[[ 4.99096674 29.68187118 92.66247759  8.28062089 44.76773522  2.51916121]]\n"
          ],
          "name": "stdout"
        }
      ]
    },
    {
      "cell_type": "code",
      "metadata": {
        "id": "KpzMpJ1DwXVd",
        "colab_type": "code",
        "outputId": "810718df-fb64-4ef1-d826-32345f303850",
        "colab": {
          "base_uri": "https://localhost:8080/",
          "height": 34
        }
      },
      "source": [
        "finalcost = Costfunction(X,y,thetafinal)\n",
        "print(finalcost)"
      ],
      "execution_count": 62,
      "outputs": [
        {
          "output_type": "stream",
          "text": [
            "207.7766577743083\n"
          ],
          "name": "stdout"
        }
      ]
    },
    {
      "cell_type": "code",
      "metadata": {
        "id": "xTs7gYEQwXVf",
        "colab_type": "code",
        "outputId": "8a9085b0-ad68-447e-90c8-b3c06c358a9a",
        "colab": {
          "base_uri": "https://localhost:8080/",
          "height": 312
        }
      },
      "source": [
        "fig, ax = plt.subplots()  \n",
        "ax.plot(np.arange(iterations), cost, 'r')  \n",
        "ax.set_xlabel('Iterations')  \n",
        "ax.set_ylabel('Cost')  \n",
        "ax.set_title('Error vs. Training Epoch')"
      ],
      "execution_count": 63,
      "outputs": [
        {
          "output_type": "execute_result",
          "data": {
            "text/plain": [
              "Text(0.5, 1.0, 'Error vs. Training Epoch')"
            ]
          },
          "metadata": {
            "tags": []
          },
          "execution_count": 63
        },
        {
          "output_type": "display_data",
          "data": {
            "image/png": "[encoded data removed]",
            "text/plain": [
              "<Figure size 432x288 with 1 Axes>"
            ]
          },
          "metadata": {
            "tags": [],
            "needs_background": "light"
          }
        }
      ]
    },
    {
      "cell_type": "markdown",
      "metadata": {
        "id": "ais3xSlYg_Z3",
        "colab_type": "text"
      },
      "source": [
        "**Prediction on training and test set**"
      ]
    },
    {
      "cell_type": "code",
      "metadata": {
        "id": "G9fS4lyywXVi",
        "colab_type": "code",
        "colab": {}
      },
      "source": [
        "Z_train = (X @ thetafinal.T) \n",
        "Z_test=(X_testf@thetafinal.T)"
      ],
      "execution_count": 0,
      "outputs": []
    },
    {
      "cell_type": "code",
      "metadata": {
        "id": "BNfxjohiwXVk",
        "colab_type": "code",
        "outputId": "b8720036-8040-43ba-950a-b4cddcc0b126",
        "colab": {
          "base_uri": "https://localhost:8080/",
          "height": 141
        }
      },
      "source": [
        "print(Z_train)"
      ],
      "execution_count": 65,
      "outputs": [
        {
          "output_type": "stream",
          "text": [
            "[[ -57.87196311]\n",
            " [ -89.46019557]\n",
            " [  53.95305942]\n",
            " ...\n",
            " [-115.65802541]\n",
            " [ -64.27649688]\n",
            " [-116.11442895]]\n"
          ],
          "name": "stdout"
        }
      ]
    },
    {
      "cell_type": "code",
      "metadata": {
        "id": "sWzVuqRuwXVm",
        "colab_type": "code",
        "outputId": "032f8ac3-c3f3-4016-a4dd-f91066612ed0",
        "colab": {
          "base_uri": "https://localhost:8080/",
          "height": 1000
        }
      },
      "source": [
        "print(Z_test)"
      ],
      "execution_count": 66,
      "outputs": [
        {
          "output_type": "stream",
          "text": [
            "[[ 1.14583689e+02]\n",
            " [ 1.18012815e+02]\n",
            " [-2.17398523e+01]\n",
            " [-4.39368985e+01]\n",
            " [-9.59148984e+01]\n",
            " [-4.45074240e+01]\n",
            " [-7.55665260e+01]\n",
            " [ 2.38208355e+01]\n",
            " [ 1.73835284e+02]\n",
            " [ 1.72849290e+02]\n",
            " [-1.05402312e+02]\n",
            " [-2.08020234e+01]\n",
            " [-3.91323777e+00]\n",
            " [ 1.22999186e+02]\n",
            " [ 4.03078842e+01]\n",
            " [ 4.57128495e+01]\n",
            " [-1.89628491e+02]\n",
            " [ 2.26125454e+01]\n",
            " [ 1.16410473e+01]\n",
            " [ 1.36342143e+02]\n",
            " [ 6.49162552e+01]\n",
            " [-6.19884884e+01]\n",
            " [-1.08194679e+02]\n",
            " [-7.41212747e+00]\n",
            " [-5.85239528e+01]\n",
            " [ 1.18889777e+01]\n",
            " [ 2.92376400e+01]\n",
            " [ 1.07687579e+02]\n",
            " [ 2.41468563e+01]\n",
            " [-2.61050120e+01]\n",
            " [ 1.10968076e+02]\n",
            " [-4.48797096e+01]\n",
            " [ 2.16799939e+02]\n",
            " [-1.38606052e+01]\n",
            " [-2.28603182e+02]\n",
            " [ 1.54896021e+02]\n",
            " [-2.22583390e+00]\n",
            " [ 1.27230344e+01]\n",
            " [-3.08307877e+02]\n",
            " [ 7.71107583e+01]\n",
            " [-8.12079177e+01]\n",
            " [-2.06632925e+02]\n",
            " [-2.38762881e+02]\n",
            " [ 1.34757365e+02]\n",
            " [-7.37514777e+01]\n",
            " [ 1.05463702e+02]\n",
            " [-3.59074927e+00]\n",
            " [ 2.06043839e+01]\n",
            " [-9.80187354e+01]\n",
            " [-2.75169049e+01]\n",
            " [ 1.08159001e+01]\n",
            " [-1.74463534e+02]\n",
            " [ 6.51557518e+01]\n",
            " [-9.78063844e+01]\n",
            " [-1.06151855e+02]\n",
            " [-1.55942178e+02]\n",
            " [ 6.25361032e+01]\n",
            " [ 1.08628991e+02]\n",
            " [-7.46103422e+01]\n",
            " [ 4.17396380e+01]\n",
            " [ 4.12242983e+01]\n",
            " [-5.08043007e+01]\n",
            " [ 1.64887262e+02]\n",
            " [ 4.35635985e+01]\n",
            " [ 5.69371401e+01]\n",
            " [ 2.41211334e+01]\n",
            " [ 8.16773838e+01]\n",
            " [-1.80304316e+00]\n",
            " [-3.09735011e+00]\n",
            " [ 1.80977272e+00]\n",
            " [-2.39397288e+01]\n",
            " [ 1.61874720e+02]\n",
            " [-4.10129899e+01]\n",
            " [ 2.15560701e+01]\n",
            " [-6.64305442e+01]\n",
            " [-6.92710146e+01]\n",
            " [ 3.69986169e+01]\n",
            " [-1.60490354e+02]\n",
            " [-1.76152673e+00]\n",
            " [ 1.51309319e+02]\n",
            " [-3.80218327e+01]\n",
            " [-1.20320688e+02]\n",
            " [-1.94436345e+02]\n",
            " [ 3.64493852e+01]\n",
            " [ 1.46425717e+02]\n",
            " [ 2.71429735e+02]\n",
            " [-2.56998804e+02]\n",
            " [-8.85512683e+01]\n",
            " [ 7.62607756e+01]\n",
            " [-8.99426453e+01]\n",
            " [-4.94099238e+01]\n",
            " [ 1.25588303e+02]\n",
            " [-1.63891147e+02]\n",
            " [-1.16823341e+02]\n",
            " [ 4.87104404e+01]\n",
            " [ 9.81684061e+01]\n",
            " [-2.15581459e+02]\n",
            " [-1.21288951e+02]\n",
            " [-1.72346819e+02]\n",
            " [-5.12594130e+01]\n",
            " [ 1.27991975e+02]\n",
            " [-8.38947004e+01]\n",
            " [-3.93355710e+00]\n",
            " [-1.45819362e+00]\n",
            " [ 6.87157159e-02]\n",
            " [ 8.07263279e+01]\n",
            " [ 4.45095525e+01]\n",
            " [ 9.24525606e+01]\n",
            " [-3.02937078e+01]\n",
            " [-8.41409462e+01]\n",
            " [ 3.86056584e+01]\n",
            " [ 1.82850652e+01]\n",
            " [ 1.17401859e+02]\n",
            " [ 7.70873241e+00]\n",
            " [ 7.35667699e+01]\n",
            " [ 3.27250659e+01]\n",
            " [-1.42403921e+02]\n",
            " [ 7.21277669e+00]\n",
            " [ 2.10140289e+01]\n",
            " [-2.27889032e+01]\n",
            " [-2.11981550e+01]\n",
            " [-2.55771207e+02]\n",
            " [ 2.67437280e+02]\n",
            " [ 1.55039195e+02]\n",
            " [ 1.43417317e+01]\n",
            " [ 8.35124515e+01]\n",
            " [-1.21442232e+01]\n",
            " [-1.53097324e+02]\n",
            " [ 1.12393595e+02]\n",
            " [-3.20459035e+01]\n",
            " [-2.16024763e+02]\n",
            " [ 1.21057697e+02]\n",
            " [-2.98930911e+01]\n",
            " [-8.68348066e+01]\n",
            " [ 1.70724468e+02]\n",
            " [ 3.91922861e+01]\n",
            " [-1.93300026e+01]\n",
            " [ 6.17641657e+01]\n",
            " [ 4.60812147e+01]\n",
            " [-1.75029471e+02]\n",
            " [ 1.30155609e+02]\n",
            " [-7.28071887e+01]\n",
            " [ 2.12090398e+02]\n",
            " [ 1.35346245e+02]\n",
            " [ 2.30097434e-01]\n",
            " [-1.53844667e+02]\n",
            " [-1.48709586e+01]\n",
            " [ 1.33660081e+02]\n",
            " [ 3.59628027e+01]\n",
            " [ 5.77045854e+01]\n",
            " [-4.36552160e+00]\n",
            " [-4.31110458e+01]\n",
            " [ 1.77217405e+01]\n",
            " [-6.97051989e+01]\n",
            " [ 2.85463704e+01]\n",
            " [ 1.41994072e+02]\n",
            " [ 3.46823799e+02]\n",
            " [ 2.16924179e+02]\n",
            " [ 2.78162767e+01]\n",
            " [-3.77390624e+01]\n",
            " [-1.71397275e+02]\n",
            " [ 1.28961678e+01]\n",
            " [ 2.98607728e+02]\n",
            " [ 7.56384285e+01]\n",
            " [-2.21090992e+01]\n",
            " [ 1.55678418e+02]\n",
            " [-1.55694869e+02]\n",
            " [ 1.41408003e+02]\n",
            " [ 1.71079952e+02]\n",
            " [-4.69490852e+01]\n",
            " [ 6.55777840e+01]\n",
            " [ 9.72533920e+01]\n",
            " [ 9.49267603e+01]\n",
            " [ 3.18715034e+01]\n",
            " [ 1.74337052e+02]\n",
            " [-1.51155108e+02]\n",
            " [-9.43342846e+01]\n",
            " [-1.69777111e+02]\n",
            " [-1.82969143e+01]\n",
            " [-1.07277796e+02]\n",
            " [-1.41266108e+01]\n",
            " [-5.88120172e+01]\n",
            " [-7.50832380e+01]\n",
            " [ 6.73587271e+01]\n",
            " [-6.89703478e+01]\n",
            " [ 8.88318631e+01]\n",
            " [-5.70948342e+01]\n",
            " [-1.09741255e+02]\n",
            " [-7.77833544e+01]\n",
            " [ 1.85629304e+02]\n",
            " [-4.14282206e+01]\n",
            " [ 2.19635522e+02]\n",
            " [-5.66172847e+01]\n",
            " [-8.36222525e+01]\n",
            " [ 4.73238005e+01]\n",
            " [ 6.26076531e-01]\n",
            " [ 7.13821511e+01]\n",
            " [-6.06639903e+01]\n",
            " [ 2.09659127e+02]\n",
            " [-1.38637055e+02]\n",
            " [-9.68478030e+01]\n",
            " [-1.15583978e+02]\n",
            " [ 2.49654102e+01]\n",
            " [ 5.42952400e+01]\n",
            " [ 1.50502762e+02]\n",
            " [ 4.68983224e+01]\n",
            " [ 9.19854966e+01]\n",
            " [ 1.73013101e+02]\n",
            " [-2.70553209e+02]\n",
            " [-1.73857397e+02]\n",
            " [-1.05304177e+02]\n",
            " [-8.25142264e+01]\n",
            " [ 2.90802473e+01]\n",
            " [-5.03321805e+01]\n",
            " [ 7.80970160e+01]\n",
            " [-2.01979151e+01]\n",
            " [-5.22163204e+01]\n",
            " [-2.86307739e+01]\n",
            " [ 6.56560573e+01]\n",
            " [ 9.17307327e+01]\n",
            " [-8.26675481e+01]\n",
            " [-1.48460926e+02]\n",
            " [ 4.86777092e+01]\n",
            " [ 2.38567646e+02]\n",
            " [-4.86998996e+01]\n",
            " [ 1.57631321e+01]\n",
            " [-6.19899690e+01]\n",
            " [ 1.31485707e+01]\n",
            " [ 1.00289512e+01]\n",
            " [ 3.99646084e+01]\n",
            " [ 1.15958615e+02]\n",
            " [ 1.86669503e+01]\n",
            " [-1.07329942e+02]\n",
            " [ 4.67695594e+01]\n",
            " [ 1.00039959e+02]\n",
            " [-8.87533938e+01]\n",
            " [-1.74694218e+02]\n",
            " [ 1.69478147e+02]\n",
            " [ 1.09352799e+02]\n",
            " [ 6.20899161e+01]\n",
            " [-8.54397834e+00]\n",
            " [-2.48564441e+01]\n",
            " [-4.77166394e+01]\n",
            " [-1.71011355e+02]\n",
            " [-6.50008843e+01]\n",
            " [-2.77481804e+01]\n",
            " [-1.71402598e+02]\n",
            " [-2.82093276e+01]\n",
            " [ 3.43188175e+01]\n",
            " [-1.21610783e+02]\n",
            " [ 1.74264374e+01]\n",
            " [-7.73081929e-01]\n",
            " [-2.54182308e+02]\n",
            " [-2.53529253e+02]\n",
            " [-1.65878766e+02]\n",
            " [ 4.67111041e+01]\n",
            " [ 1.31612022e+02]\n",
            " [ 7.07816400e+01]\n",
            " [ 1.19875914e+02]\n",
            " [ 9.38430102e+01]\n",
            " [ 2.21288003e+01]\n",
            " [-3.06145032e+02]\n",
            " [ 1.87134675e+02]\n",
            " [-1.30086933e+02]\n",
            " [-4.39017442e+01]\n",
            " [-8.48294430e+01]\n",
            " [-8.75139738e+01]\n",
            " [ 1.37064206e+02]\n",
            " [ 1.62663114e+02]\n",
            " [-4.04306781e+01]\n",
            " [-1.42315693e+02]\n",
            " [ 1.13295414e+02]\n",
            " [-1.98162283e+01]\n",
            " [ 8.81663869e+01]\n",
            " [ 1.05992718e+02]\n",
            " [ 2.53000074e+01]\n",
            " [-5.08837521e+01]\n",
            " [-2.69524817e+01]\n",
            " [ 3.01092851e+01]\n",
            " [ 7.38938849e+01]\n",
            " [ 2.83608166e+01]\n",
            " [-1.28416330e+02]\n",
            " [-1.52776301e+01]\n",
            " [-1.10374437e+01]\n",
            " [-1.26794785e+02]\n",
            " [ 1.62120112e+02]\n",
            " [-1.00838833e+01]\n",
            " [-1.33336316e+02]\n",
            " [ 2.06450695e+02]\n",
            " [ 4.88376450e+01]\n",
            " [ 9.32013696e+01]\n",
            " [ 3.13905901e+01]\n",
            " [ 2.07038229e+02]\n",
            " [-3.89970195e+01]\n",
            " [-3.07289410e+01]\n",
            " [-4.01751698e+01]\n",
            " [ 5.23598108e+01]\n",
            " [-6.24040563e+01]\n",
            " [ 9.36382324e+01]\n",
            " [-8.42914985e+01]\n",
            " [-9.55313843e+01]\n",
            " [-2.43804958e+01]\n",
            " [-8.98079279e+01]\n",
            " [-2.31749011e+01]\n",
            " [ 5.96648383e+01]\n",
            " [-3.24313782e+01]\n",
            " [-7.40946220e+01]\n",
            " [-1.79732441e+02]\n",
            " [-1.63685038e+02]\n",
            " [ 4.11883520e+01]\n",
            " [ 8.02784922e+01]\n",
            " [ 3.01577804e+02]\n",
            " [ 1.28554327e+02]\n",
            " [ 1.30832988e+02]\n",
            " [ 5.25149254e+01]\n",
            " [-2.12873997e+01]\n",
            " [ 1.83267572e+02]\n",
            " [-5.88757862e+01]\n",
            " [ 1.29469597e+02]\n",
            " [ 1.52655487e+02]\n",
            " [-3.33223694e+01]\n",
            " [-2.02138568e+02]\n",
            " [-9.88606794e+01]\n",
            " [ 4.34312192e+00]\n",
            " [-4.48044373e+01]\n",
            " [-3.78196288e+01]\n",
            " [ 1.57823714e+02]\n",
            " [ 1.34014627e+02]\n",
            " [ 2.50245556e+01]\n",
            " [-8.84390602e+01]\n",
            " [ 1.87246379e+02]\n",
            " [-6.54536233e+01]\n",
            " [ 6.55402344e+01]\n",
            " [ 8.03561819e+01]\n",
            " [ 9.88057301e+01]\n",
            " [-1.05254566e+02]\n",
            " [ 1.14404232e+02]\n",
            " [-3.49199136e+01]\n",
            " [ 8.86094632e+01]\n",
            " [-8.33695266e+01]\n",
            " [-2.02231114e+02]\n",
            " [ 1.58221478e+02]\n",
            " [-9.31481791e+01]\n",
            " [ 6.59816387e+01]\n",
            " [ 1.25513068e+02]\n",
            " [ 3.07073555e+01]\n",
            " [-1.75221035e+02]\n",
            " [-3.37049758e+01]\n",
            " [-4.79594491e+01]\n",
            " [-1.17026015e+02]\n",
            " [ 1.22681657e+01]\n",
            " [-8.81417151e+01]\n",
            " [-3.89840106e+01]\n",
            " [-1.63414696e+02]\n",
            " [-2.18465652e+02]\n",
            " [ 5.51305633e+00]\n",
            " [-2.05947839e+02]\n",
            " [ 1.85721065e+02]\n",
            " [-9.25001204e+00]\n",
            " [ 1.80720271e+01]\n",
            " [ 3.27977960e+01]\n",
            " [ 2.41092423e+02]\n",
            " [-2.73852965e+01]\n",
            " [ 1.34032356e+02]\n",
            " [ 5.73968795e+01]\n",
            " [ 1.05388596e+01]\n",
            " [-8.65082599e+01]\n",
            " [-9.65674714e+00]\n",
            " [ 2.23430526e+02]\n",
            " [-1.47055341e+01]\n",
            " [-1.37921702e+02]\n",
            " [-5.05147716e+01]\n",
            " [-9.36793798e+01]\n",
            " [ 8.81628163e+00]\n",
            " [-1.46040269e+01]\n",
            " [-6.28519967e+01]\n",
            " [-1.64655543e+01]\n",
            " [-1.72962640e+02]\n",
            " [-1.22791775e+02]\n",
            " [ 4.52738982e+01]\n",
            " [-3.73099314e+01]\n",
            " [-1.57438494e+02]\n",
            " [ 8.74983858e+01]\n",
            " [-3.20726424e-01]\n",
            " [ 1.33257842e+02]\n",
            " [-4.71722088e+01]\n",
            " [ 2.57466116e+00]\n",
            " [ 1.74227519e+02]\n",
            " [ 1.70930081e+02]\n",
            " [ 4.64333575e+01]\n",
            " [-2.67206510e+01]\n",
            " [ 5.96322523e+01]\n",
            " [ 1.11659113e+02]\n",
            " [-3.65027668e+01]\n",
            " [-6.91390527e+01]\n",
            " [-8.19890004e+01]\n",
            " [-1.86032535e+02]\n",
            " [ 1.25292336e+02]\n",
            " [ 6.53698407e+01]\n",
            " [ 5.70596907e+01]]\n"
          ],
          "name": "stdout"
        }
      ]
    },
    {
      "cell_type": "markdown",
      "metadata": {
        "id": "MXTTIHJthEsv",
        "colab_type": "text"
      },
      "source": [
        "**Comparison on Training set**"
      ]
    },
    {
      "cell_type": "code",
      "metadata": {
        "id": "KWfJ1z2PwXVp",
        "colab_type": "code",
        "colab": {
          "base_uri": "https://localhost:8080/",
          "height": 141
        },
        "outputId": "15417ac9-c08e-431e-c313-f05e7b821044"
      },
      "source": [
        "print(np.concatenate((Z_train,y),axis=1))"
      ],
      "execution_count": 67,
      "outputs": [
        {
          "output_type": "stream",
          "text": [
            "[[ -57.87196311  -82.15466656]\n",
            " [ -89.46019557  -48.89796018]\n",
            " [  53.95305942   77.2703707 ]\n",
            " ...\n",
            " [-115.65802541 -107.51050797]\n",
            " [ -64.27649688  -47.34155781]\n",
            " [-116.11442895 -115.93900296]]\n"
          ],
          "name": "stdout"
        }
      ]
    }
  ]
}